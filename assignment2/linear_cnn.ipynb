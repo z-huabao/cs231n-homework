{
 "cells": [
  {
   "cell_type": "code",
   "execution_count": 1,
   "metadata": {
    "collapsed": false
   },
   "outputs": [
    {
     "name": "stdout",
     "output_type": "stream",
     "text": [
      "run the following from the cs231n directory and try again:\n",
      "python setup.py build_ext --inplace\n",
      "You may also need to restart your iPython kernel\n"
     ]
    }
   ],
   "source": [
    "import setuptools\n",
    "%load_ext Cython\n",
    "# As usual, a bit of setup\n",
    "\n",
    "import numpy as np\n",
    "import matplotlib.pyplot as plt\n",
    "from cs231n.classifiers.cnn import *\n",
    "from cs231n.data_utils import get_CIFAR10_data\n",
    "from cs231n.gradient_check import eval_numerical_gradient_array, eval_numerical_gradient\n",
    "from cs231n.layers import *\n",
    "from cs231n.fast_layers import *\n",
    "from cs231n.solver import Solver\n",
    "\n",
    "%matplotlib inline\n",
    "plt.rcParams['figure.figsize'] = (10.0, 8.0) # set default size of plots\n",
    "plt.rcParams['image.interpolation'] = 'nearest'\n",
    "plt.rcParams['image.cmap'] = 'gray'\n",
    "\n",
    "# for auto-reloading external modules\n",
    "# see http://stackoverflow.com/questions/1907993/autoreload-of-modules-in-ipython\n",
    "%load_ext autoreload\n",
    "%autoreload 2\n",
    "\n",
    "def rel_error(x, y):\n",
    "  \"\"\" returns relative error \"\"\"\n",
    "  return np.max(np.abs(x - y) / (np.maximum(1e-8, np.abs(x) + np.abs(y))))"
   ]
  },
  {
   "cell_type": "code",
   "execution_count": 2,
   "metadata": {
    "collapsed": false
   },
   "outputs": [
    {
     "name": "stdout",
     "output_type": "stream",
     "text": [
      "X_val:  (1000, 3, 32, 32)\n",
      "X_train:  (49000, 3, 32, 32)\n",
      "X_test:  (1000, 3, 32, 32)\n",
      "y_val:  (1000,)\n",
      "y_train:  (49000,)\n",
      "y_test:  (1000,)\n"
     ]
    }
   ],
   "source": [
    "# Load the (preprocessed) CIFAR10 data.\n",
    "\n",
    "data = get_CIFAR10_data()\n",
    "for k, v in data.iteritems():\n",
    "  print '%s: ' % k, v.shape"
   ]
  },
  {
   "cell_type": "code",
   "execution_count": null,
   "metadata": {
    "collapsed": true
   },
   "outputs": [],
   "source": [
    "model = LinearCNN()\n",
    "\n",
    "N = 50\n",
    "X = np.random.randn(N, 3, 32, 32)\n",
    "y = np.random.randint(10, size=N)\n",
    "\n",
    "print -np.log(0.1)\n",
    "loss, grads = model.loss(X, y)\n",
    "print 'Initial loss (no regularization): ', loss\n",
    "model.reg = 0.05\n",
    "loss, grads = model.loss(X, y)\n",
    "print 'Initial loss (with regularization): ', loss"
   ]
  },
  {
   "cell_type": "code",
   "execution_count": 79,
   "metadata": {
    "collapsed": false
   },
   "outputs": [
    {
     "name": "stdout",
     "output_type": "stream",
     "text": [
      "(Iteration 1 / 20) loss: 3.335239\n",
      "(Epoch 1 / 20) train acc: 0.160000; val_acc: 0.087000\n",
      "(Epoch 2 / 20) train acc: 0.220000; val_acc: 0.109000\n",
      "(Epoch 3 / 20) train acc: 0.320000; val_acc: 0.111000\n",
      "(Epoch 4 / 20) train acc: 0.400000; val_acc: 0.099000\n",
      "(Epoch 5 / 20) train acc: 0.480000; val_acc: 0.083000\n",
      "(Epoch 6 / 20) train acc: 0.500000; val_acc: 0.095000\n",
      "(Epoch 7 / 20) train acc: 0.520000; val_acc: 0.108000\n",
      "(Epoch 8 / 20) train acc: 0.600000; val_acc: 0.119000\n",
      "(Epoch 9 / 20) train acc: 0.600000; val_acc: 0.123000\n",
      "(Epoch 10 / 20) train acc: 0.640000; val_acc: 0.128000\n",
      "(Iteration 11 / 20) loss: 1.540117\n",
      "(Epoch 11 / 20) train acc: 0.620000; val_acc: 0.128000\n",
      "(Epoch 12 / 20) train acc: 0.640000; val_acc: 0.134000\n",
      "(Epoch 13 / 20) train acc: 0.640000; val_acc: 0.136000\n",
      "(Epoch 14 / 20) train acc: 0.660000; val_acc: 0.146000\n",
      "(Epoch 15 / 20) train acc: 0.700000; val_acc: 0.151000\n",
      "(Epoch 16 / 20) train acc: 0.740000; val_acc: 0.147000\n",
      "(Epoch 17 / 20) train acc: 0.800000; val_acc: 0.142000\n",
      "(Epoch 18 / 20) train acc: 0.800000; val_acc: 0.139000\n",
      "(Epoch 19 / 20) train acc: 0.820000; val_acc: 0.134000\n",
      "(Epoch 20 / 20) train acc: 0.880000; val_acc: 0.140000\n"
     ]
    }
   ],
   "source": [
    "from cs231n.classifiers.linear_cnn import LinearCNN\n",
    "num_train = 50\n",
    "small_data = {\n",
    "  'X_train': data['X_train'][:num_train],\n",
    "  'y_train': data['y_train'][:num_train],\n",
    "  'X_val': data['X_val'],\n",
    "  'y_val': data['y_val'],\n",
    "}\n",
    "\n",
    "model = LinearCNN(conv_sets=[(8,2,2,2),(16,2,2,2),(32,2,2,2),(64,2,2,2),(128,2,2,2)],\n",
    "                pool_params=[(1,1,1),(1,1,1),(1,1,1),(1,1,1),(1,1,1)],\n",
    "                aff_dim=[128,128], use_batchnorm=False, reg=1e-4, reset=True)\n",
    "solver = Solver(model, small_data, num_epochs=20, batch_size=32,\n",
    "                update_rule='adam', optim_config={'learning_rate': 3e-3,},\n",
    "                verbose=True, print_every=10)\n",
    "solver.train()"
   ]
  },
  {
   "cell_type": "code",
   "execution_count": 80,
   "metadata": {
    "collapsed": false
   },
   "outputs": [
    {
     "data": {
      "image/png": "[encoded data removed]",
      "text/plain": [
       "<matplotlib.figure.Figure at 0x7f8726155510>"
      ]
     },
     "metadata": {},
     "output_type": "display_data"
    }
   ],
   "source": [
    "plt.subplot(2, 1, 1)\n",
    "plt.plot(solver.loss_history, 'o')\n",
    "plt.xlabel('iteration')\n",
    "plt.ylabel('loss')\n",
    "\n",
    "plt.subplot(2, 1, 2)\n",
    "plt.plot(solver.train_acc_history, '-o')\n",
    "plt.plot(solver.val_acc_history, '-o')\n",
    "plt.legend(['train', 'val'], loc='upper left')\n",
    "plt.xlabel('epoch')\n",
    "plt.ylabel('accuracy')\n",
    "plt.show()"
   ]
  },
  {
   "cell_type": "code",
   "execution_count": 182,
   "metadata": {
    "collapsed": false
   },
   "outputs": [
    {
     "name": "stdout",
     "output_type": "stream",
     "text": [
      "(Iteration 1 / 3820) loss: 13.454442\n",
      "(Epoch 0 / 10) train acc: 0.116000; val_acc: 0.110000\n",
      "(Iteration 101 / 3820) loss: 2.792191\n",
      "(Iteration 201 / 3820) loss: 2.235759\n",
      "(Iteration 301 / 3820) loss: 2.256562\n",
      "(Epoch 1 / 10) train acc: 0.401000; val_acc: 0.395000\n",
      "(Iteration 401 / 3820) loss: 3.555797\n",
      "(Iteration 501 / 3820) loss: 2.052268\n",
      "(Iteration 601 / 3820) loss: 1.941003\n",
      "(Iteration 701 / 3820) loss: 2.092270\n",
      "(Epoch 2 / 10) train acc: 0.488000; val_acc: 0.452000\n",
      "(Iteration 801 / 3820) loss: 1.975816\n",
      "(Iteration 901 / 3820) loss: 2.020357\n",
      "(Iteration 1001 / 3820) loss: 2.029776\n",
      "(Iteration 1101 / 3820) loss: 1.831730\n",
      "(Epoch 3 / 10) train acc: 0.526000; val_acc: 0.467000\n",
      "(Iteration 1201 / 3820) loss: 1.862904\n",
      "(Iteration 1301 / 3820) loss: 1.728838\n",
      "(Iteration 1401 / 3820) loss: 1.753787\n",
      "(Iteration 1501 / 3820) loss: 1.835182\n",
      "(Epoch 4 / 10) train acc: 0.498000; val_acc: 0.479000\n",
      "(Iteration 1601 / 3820) loss: 1.636782\n",
      "(Iteration 1701 / 3820) loss: 1.688440\n",
      "(Iteration 1801 / 3820) loss: 1.745449\n",
      "(Iteration 1901 / 3820) loss: 1.650387\n",
      "(Epoch 5 / 10) train acc: 0.550000; val_acc: 0.513000\n",
      "(Iteration 2001 / 3820) loss: 1.567165\n",
      "(Iteration 2101 / 3820) loss: 1.651378\n",
      "(Iteration 2201 / 3820) loss: 1.704204\n",
      "(Epoch 6 / 10) train acc: 0.561000; val_acc: 0.512000\n",
      "(Iteration 2301 / 3820) loss: 1.755626\n",
      "(Iteration 2401 / 3820) loss: 1.451664\n",
      "(Iteration 2501 / 3820) loss: 1.758930\n",
      "(Iteration 2601 / 3820) loss: 1.595979\n",
      "(Epoch 7 / 10) train acc: 0.570000; val_acc: 0.511000\n",
      "(Iteration 2701 / 3820) loss: 1.680675\n",
      "(Iteration 2801 / 3820) loss: 1.461435\n",
      "(Iteration 2901 / 3820) loss: 1.492037\n",
      "(Iteration 3001 / 3820) loss: 1.719375\n",
      "(Epoch 8 / 10) train acc: 0.577000; val_acc: 0.527000\n",
      "(Iteration 3101 / 3820) loss: 1.657603\n",
      "(Iteration 3201 / 3820) loss: 1.543791\n",
      "(Iteration 3301 / 3820) loss: 1.416879\n",
      "(Iteration 3401 / 3820) loss: 1.533298\n",
      "(Epoch 9 / 10) train acc: 0.606000; val_acc: 0.527000\n",
      "(Iteration 3501 / 3820) loss: 1.589591\n",
      "(Iteration 3601 / 3820) loss: 1.418899\n",
      "(Iteration 3701 / 3820) loss: 1.536346\n",
      "(Iteration 3801 / 3820) loss: 1.716293\n",
      "(Epoch 10 / 10) train acc: 0.621000; val_acc: 0.531000\n"
     ]
    }
   ],
   "source": [
    "from cs231n.classifiers.linear_cnn import LinearCNN\n",
    "num_train = -1\n",
    "small_data = {\n",
    "  'X_train': data['X_train'][:num_train],\n",
    "  'y_train': data['y_train'][:num_train],\n",
    "  'X_val': data['X_val'],\n",
    "  'y_val': data['y_val'],\n",
    "}\n",
    "\n",
    "model = LinearCNN(conv_sets=[(3,1,1,1),(8,2,2,2),(16,2,2,2),(32,2,2,2),(64,2,2,2)],\n",
    "                pool_params=[(1,1,1),(1,1,1),(1,1,1),(1,1,1),(1,1,1)],\n",
    "                aff_dim=[128], use_batchnorm=False, reg=2e-3, reset=True)\n",
    "solver = Solver(model, small_data, num_epochs=10, batch_size=128,\n",
    "                update_rule='adam', optim_config={'learning_rate': 1e-3,},\n",
    "                verbose=True, print_every=100)\n",
    "solver.train()"
   ]
  },
  {
   "cell_type": "code",
   "execution_count": 186,
   "metadata": {
    "collapsed": false
   },
   "outputs": [
    {
     "name": "stdout",
     "output_type": "stream",
     "text": [
      "(Iteration 1 / 7640) loss: 1.423998\n",
      "(Epoch 0 / 20) train acc: 0.599000; val_acc: 0.529000\n",
      "(Iteration 201 / 7640) loss: 1.347677\n",
      "(Epoch 1 / 20) train acc: 0.614000; val_acc: 0.544000\n",
      "(Iteration 401 / 7640) loss: 1.341043\n",
      "(Iteration 601 / 7640) loss: 1.215049\n",
      "(Epoch 2 / 20) train acc: 0.608000; val_acc: 0.550000\n",
      "(Iteration 801 / 7640) loss: 1.472042\n",
      "(Iteration 1001 / 7640) loss: 1.365173\n",
      "(Epoch 3 / 20) train acc: 0.654000; val_acc: 0.558000\n",
      "(Iteration 1201 / 7640) loss: 1.432754\n",
      "(Iteration 1401 / 7640) loss: 1.295720\n",
      "(Epoch 4 / 20) train acc: 0.619000; val_acc: 0.552000\n",
      "(Iteration 1601 / 7640) loss: 1.193173\n",
      "(Iteration 1801 / 7640) loss: 1.441237\n",
      "(Epoch 5 / 20) train acc: 0.643000; val_acc: 0.551000\n",
      "(Iteration 2001 / 7640) loss: 1.253439\n",
      "(Iteration 2201 / 7640) loss: 1.369242\n",
      "(Epoch 6 / 20) train acc: 0.613000; val_acc: 0.551000\n",
      "(Iteration 2401 / 7640) loss: 1.297911\n",
      "(Iteration 2601 / 7640) loss: 1.319085\n",
      "(Epoch 7 / 20) train acc: 0.606000; val_acc: 0.553000\n",
      "(Iteration 2801 / 7640) loss: 1.374043\n",
      "(Iteration 3001 / 7640) loss: 1.274256\n",
      "(Epoch 8 / 20) train acc: 0.636000; val_acc: 0.554000\n",
      "(Iteration 3201 / 7640) loss: 1.229233\n",
      "(Iteration 3401 / 7640) loss: 1.123800\n",
      "(Epoch 9 / 20) train acc: 0.633000; val_acc: 0.558000\n",
      "(Iteration 3601 / 7640) loss: 1.290509\n",
      "(Iteration 3801 / 7640) loss: 1.169033\n",
      "(Epoch 10 / 20) train acc: 0.659000; val_acc: 0.547000\n",
      "(Iteration 4001 / 7640) loss: 1.331400\n",
      "(Iteration 4201 / 7640) loss: 1.437159\n",
      "(Epoch 11 / 20) train acc: 0.632000; val_acc: 0.556000\n",
      "(Iteration 4401 / 7640) loss: 1.364275\n",
      "(Epoch 12 / 20) train acc: 0.640000; val_acc: 0.549000\n",
      "(Iteration 4601 / 7640) loss: 1.314655\n",
      "(Iteration 4801 / 7640) loss: 1.426448\n",
      "(Epoch 13 / 20) train acc: 0.643000; val_acc: 0.550000\n",
      "(Iteration 5001 / 7640) loss: 1.304756\n",
      "(Iteration 5201 / 7640) loss: 1.305687\n",
      "(Epoch 14 / 20) train acc: 0.650000; val_acc: 0.546000\n",
      "(Iteration 5401 / 7640) loss: 1.406312\n",
      "(Iteration 5601 / 7640) loss: 1.574476\n",
      "(Epoch 15 / 20) train acc: 0.663000; val_acc: 0.561000\n",
      "(Iteration 5801 / 7640) loss: 1.443633\n",
      "(Iteration 6001 / 7640) loss: 1.393368\n",
      "(Epoch 16 / 20) train acc: 0.661000; val_acc: 0.545000\n",
      "(Iteration 6201 / 7640) loss: 1.508788\n",
      "(Iteration 6401 / 7640) loss: 1.323283\n",
      "(Epoch 17 / 20) train acc: 0.639000; val_acc: 0.560000\n",
      "(Iteration 6601 / 7640) loss: 1.390293\n",
      "(Iteration 6801 / 7640) loss: 1.336204\n",
      "(Epoch 18 / 20) train acc: 0.647000; val_acc: 0.568000\n",
      "(Iteration 7001 / 7640) loss: 1.254763\n",
      "(Iteration 7201 / 7640) loss: 1.207880\n",
      "(Epoch 19 / 20) train acc: 0.655000; val_acc: 0.556000\n",
      "(Iteration 7401 / 7640) loss: 1.262882\n",
      "(Iteration 7601 / 7640) loss: 1.399595\n",
      "(Epoch 20 / 20) train acc: 0.652000; val_acc: 0.553000\n"
     ]
    }
   ],
   "source": [
    "solver = Solver(model, small_data, num_epochs=20, batch_size=128,\n",
    "                update_rule='adam', optim_config={'learning_rate': 1e-4,},\n",
    "                verbose=True, print_every=200)\n",
    "solver.train()"
   ]
  },
  {
   "cell_type": "code",
   "execution_count": 187,
   "metadata": {
    "collapsed": false
   },
   "outputs": [
    {
     "name": "stdout",
     "output_type": "stream",
     "text": [
      "Validation set accuracy:  0.568\n",
      "Test set accuracy:  0.546\n"
     ]
    }
   ],
   "source": [
    "best_model = model\n",
    "val_acc, test_acc = 0, 0\n",
    "for i in xrange(10):\n",
    "    j = i*100\n",
    "    X_test = data['X_test'][j:j+100]\n",
    "    X_val = data['X_val'][j:j+100]\n",
    "    y_test = data['y_test'][j:j+100]\n",
    "    y_val = data['y_val'][j:j+100]\n",
    "    y_test_pred = np.argmax(best_model.loss(X_test), axis=1) \n",
    "    y_val_pred = np.argmax(best_model.loss(X_val), axis=1)\n",
    "    val_acc += (y_val_pred == y_val).mean()\n",
    "    test_acc += (y_test_pred == y_test).mean()\n",
    "print 'Validation set accuracy: ', val_acc/10\n",
    "print 'Test set accuracy: ', test_acc/10"
   ]
  },
  {
   "cell_type": "code",
   "execution_count": 188,
   "metadata": {
    "collapsed": false
   },
   "outputs": [
    {
     "data": {
      "image/png": "[encoded data removed]",
      "text/plain": [
       "<matplotlib.figure.Figure at 0x7f8726381350>"
      ]
     },
     "metadata": {},
     "output_type": "display_data"
    }
   ],
   "source": [
    "from cs231n.vis_utils import visualize_grid\n",
    "\n",
    "grid = visualize_grid(model.params['W1'].transpose(0, 2, 3, 1))\n",
    "plt.imshow(grid.astype('uint8'))\n",
    "plt.axis('off')\n",
    "plt.gcf().set_size_inches(5, 5)\n",
    "plt.show()\n"
   ]
  },
  {
   "cell_type": "code",
   "execution_count": 185,
   "metadata": {
    "collapsed": false
   },
   "outputs": [
    {
     "data": {
      "image/png": "[encoded data removed]",
      "text/plain": [
       "<matplotlib.figure.Figure at 0x7f8726779350>"
      ]
     },
     "metadata": {},
     "output_type": "display_data"
    }
   ],
   "source": [
    "from cs231n.vis_utils import visualize_grid\n",
    "\n",
    "grid = visualize_grid(model.params['W1'].transpose(0, 2, 3, 1))\n",
    "# plt.imshow(255 - grid.astype('uint8'))\n",
    "plt.imshow(grid.astype('uint8'))\n",
    "plt.axis('off')\n",
    "plt.gcf().set_size_inches(5, 5)\n",
    "plt.show()"
   ]
  },
  {
   "cell_type": "code",
   "execution_count": null,
   "metadata": {
    "collapsed": true
   },
   "outputs": [],
   "source": [
    "from scipy import io\n",
    "io.savemat('C:\\\\Users\\\\ZHB\\\\assignment2\\\\cs231n\\\\classifiers\\\\best_params.mat', model.params)"
   ]
  },
  {
   "cell_type": "code",
   "execution_count": 163,
   "metadata": {
    "collapsed": false
   },
   "outputs": [
    {
     "data": {
      "image/png": "[encoded data removed]",
      "text/plain": [
       "<matplotlib.figure.Figure at 0x7f87261f97d0>"
      ]
     },
     "metadata": {},
     "output_type": "display_data"
    }
   ],
   "source": [
    "X = data['X_train'][4]\n",
    "x = X.transpose(1,2,0)\n",
    "l = np.max(x)-np.min(x)\n",
    "x -= np.min(x)\n",
    "x *= 255/l\n",
    "plt.imshow(x.astype('uint8'))\n",
    "plt.axis('off')\n",
    "plt.gcf().set_size_inches(5, 5)\n",
    "plt.show()"
   ]
  },
  {
   "cell_type": "code",
   "execution_count": 203,
   "metadata": {
    "collapsed": false
   },
   "outputs": [
    {
     "name": "stdout",
     "output_type": "stream",
     "text": [
      "(34, 34, 3)\n"
     ]
    },
    {
     "data": {
      "image/png": "[encoded data removed]",
      "text/plain": [
       "<matplotlib.figure.Figure at 0x7f8726953550>"
      ]
     },
     "metadata": {},
     "output_type": "display_data"
    }
   ],
   "source": [
    "from cs231n.layers import *\n",
    "# w1, b1 = model.params['W1'], model.params['b1']\n",
    "w1 = np.random.randn(3,3,1,1)\n",
    "b1 = np.zeros([3])\n",
    "x = X[np.newaxis,:,:,:]\n",
    "x = x.swapaxes(0,1)\n",
    "conv_param = {'stride':1, 'pad': 1}\n",
    "out, _ = conv_forward_vector(x, w1, b1, conv_param)\n",
    "out = out.transpose(2,3,0,1)\n",
    "\n",
    "x = np.zeros([32,32,3])\n",
    "x[:,:,1] = out[1:-1,1:-1,0,0]\n",
    "x = out[:,:,:,0]\n",
    "l = np.max(x)-np.min(x)\n",
    "x -= np.min(x)\n",
    "x *= 255/l\n",
    "print x.shape\n",
    "plt.imshow(x.astype('uint8'))\n",
    "plt.axis('off')\n",
    "plt.gcf().set_size_inches(5, 5)\n",
    "plt.show()"
   ]
  },
  {
   "cell_type": "code",
   "execution_count": null,
   "metadata": {
    "collapsed": true
   },
   "outputs": [],
   "source": []
  }
 ],
 "metadata": {
  "anaconda-cloud": {},
  "kernelspec": {
   "display_name": "Python 2",
   "language": "python",
   "name": "python2"
  },
  "language_info": {
   "codemirror_mode": {
    "name": "ipython",
    "version": 2
   },
   "file_extension": ".py",
   "mimetype": "text/x-python",
   "name": "python",
   "nbconvert_exporter": "python",
   "pygments_lexer": "ipython2",
   "version": "2.7.13"
  }
 },
 "nbformat": 4,
 "nbformat_minor": 1
}
