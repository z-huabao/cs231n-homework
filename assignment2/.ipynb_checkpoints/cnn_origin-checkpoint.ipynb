{
 "cells": [
  {
   "cell_type": "code",
   "execution_count": null,
   "metadata": {
    "collapsed": false
   },
   "outputs": [],
   "source": [
    "import setuptools\n",
    "%load_ext Cython\n",
    "# As usual, a bit of setup\n",
    "\n",
    "import numpy as np\n",
    "import matplotlib.pyplot as plt\n",
    "from cs231n.classifiers.cnn import *\n",
    "from cs231n.data_utils import get_CIFAR10_data\n",
    "from cs231n.gradient_check import eval_numerical_gradient_array, eval_numerical_gradient\n",
    "from cs231n.layers import *\n",
    "from cs231n.fast_layers import *\n",
    "from cs231n.solver import Solver\n",
    "\n",
    "%matplotlib inline\n",
    "plt.rcParams['figure.figsize'] = (10.0, 8.0) # set default size of plots\n",
    "plt.rcParams['image.interpolation'] = 'nearest'\n",
    "plt.rcParams['image.cmap'] = 'gray'\n",
    "\n",
    "# for auto-reloading external modules\n",
    "# see http://stackoverflow.com/questions/1907993/autoreload-of-modules-in-ipython\n",
    "%load_ext autoreload\n",
    "%autoreload 2\n",
    "\n",
    "def rel_error(x, y):\n",
    "  \"\"\" returns relative error \"\"\"\n",
    "  return np.max(np.abs(x - y) / (np.maximum(1e-8, np.abs(x) + np.abs(y))))"
   ]
  },
  {
   "cell_type": "code",
   "execution_count": null,
   "metadata": {
    "collapsed": false
   },
   "outputs": [],
   "source": [
    "# Load the (preprocessed) CIFAR10 data.\n",
    "\n",
    "data = get_CIFAR10_data()\n",
    "for k, v in data.iteritems():\n",
    "  print '%s: ' % k, v.shape"
   ]
  },
  {
   "cell_type": "code",
   "execution_count": null,
   "metadata": {
    "collapsed": false
   },
   "outputs": [],
   "source": [
    "model = LinearCNN(conv_sets=[(8,2,2,2),(16,2,2,2),(32,2,2,2),(64,2,2,2)],\n",
    "                pool_params=[(1,1,1),(1,1,1),(1,1,1),(1,1,1)],\n",
    "                aff_dim=[128, 64], use_batchnorm=False, reg=2e-3, reset=True)\n",
    "N = 50\n",
    "X = np.random.randn(N, 3, 32, 32)\n",
    "y = np.random.randint(10, size=N)\n",
    "\n",
    "print -np.log(0.1)\n",
    "loss, grads = model.loss(X, y)\n",
    "print 'Initial loss (no regularization): ', loss\n",
    "model.reg = 0.05\n",
    "loss, grads = model.loss(X, y)\n",
    "print 'Initial loss (with regularization): ', loss"
   ]
  },
  {
   "cell_type": "code",
   "execution_count": null,
   "metadata": {
    "collapsed": false
   },
   "outputs": [],
   "source": [
    "from cs231n.classifiers.linear_cnn import LinearCNN\n",
    "num_train = 50\n",
    "small_data = {\n",
    "  'X_train': data['X_train'][:num_train],\n",
    "  'y_train': data['y_train'][:num_train],\n",
    "  'X_val': data['X_val'],\n",
    "  'y_val': data['y_val'],\n",
    "}\n",
    "\n",
    "model = LinearCNN(conv_sets=[(8,2,2,2),(16,2,2,2),(32,2,2,2),(64,2,2,2)],\n",
    "                pool_params=[(1,1,1),(1,1,1),(1,1,1),(1,1,1)],\n",
    "                aff_dim=[128, 64], use_batchnorm=False, reg=2e-3, reset=True)\n",
    "\n",
    "solver = Solver(model, small_data, num_epochs=20, batch_size=32,\n",
    "                update_rule='adam', optim_config={'learning_rate': 3e-3,},\n",
    "                verbose=True, print_every=10)\n",
    "solver.train()"
   ]
  },
  {
   "cell_type": "code",
   "execution_count": null,
   "metadata": {
    "collapsed": false
   },
   "outputs": [],
   "source": [
    "plt.subplot(2, 1, 1)\n",
    "plt.plot(solver.loss_history, 'o')\n",
    "plt.xlabel('iteration')\n",
    "plt.ylabel('loss')\n",
    "\n",
    "plt.subplot(2, 1, 2)\n",
    "plt.plot(solver.train_acc_history, '-o')\n",
    "plt.plot(solver.val_acc_history, '-o')\n",
    "plt.legend(['train', 'val'], loc='upper left')\n",
    "plt.xlabel('epoch')\n",
    "plt.ylabel('accuracy')\n",
    "plt.show()"
   ]
  },
  {
   "cell_type": "code",
   "execution_count": null,
   "metadata": {
    "collapsed": false
   },
   "outputs": [],
   "source": [
    "from cs231n.classifiers.linear_cnn import LinearCNN\n",
    "num_train = -1\n",
    "small_data = {\n",
    "  'X_train': data['X_train'][:num_train],\n",
    "  'y_train': data['y_train'][:num_train],\n",
    "  'X_val': data['X_val'],\n",
    "  'y_val': data['y_val'],\n",
    "}\n",
    "\n",
    "model = LinearCNN(conv_sets=[(8,2,2,2),(16,2,2,2),(32,2,2,2),(64,2,2,2)],\n",
    "                pool_params=[(1,1,1),(1,1,1),(1,1,1),(1,1,1)],\n",
    "                aff_dim=[128, 64], use_batchnorm=False, reg=0, reset=True)"
   ]
  },
  {
   "cell_type": "code",
   "execution_count": null,
   "metadata": {
    "collapsed": false
   },
   "outputs": [],
   "source": [
    "solver = Solver(model, small_data, num_epochs=100, batch_size=32,\n",
    "                update_rule='adam', optim_config={'learning_rate': 1e-3,},\n",
    "                verbose=True, print_every=500)\n",
    "solver.train()"
   ]
  },
  {
   "cell_type": "code",
   "execution_count": null,
   "metadata": {
    "collapsed": false
   },
   "outputs": [],
   "source": [
    "solver = Solver(model, small_data, num_epochs=20, batch_size=32,\n",
    "                update_rule='adam', optim_config={'learning_rate': 1e-4,},\n",
    "                verbose=True, print_every=500)\n",
    "solver.train()"
   ]
  },
  {
   "cell_type": "code",
   "execution_count": null,
   "metadata": {
    "collapsed": false
   },
   "outputs": [],
   "source": [
    "best_model = model\n",
    "val_acc, test_acc = 0, 0\n",
    "for i in xrange(10):\n",
    "    j = i*100\n",
    "    X_test = data['X_test'][j:j+100]\n",
    "    X_val = data['X_val'][j:j+100]\n",
    "    y_test = data['y_test'][j:j+100]\n",
    "    y_val = data['y_val'][j:j+100]\n",
    "    y_test_pred = np.argmax(best_model.loss(X_test), axis=1) \n",
    "    y_val_pred = np.argmax(best_model.loss(X_val), axis=1)\n",
    "    val_acc += (y_val_pred == y_val).mean()\n",
    "    test_acc += (y_test_pred == y_test).mean()\n",
    "print 'Validation set accuracy: ', val_acc/10\n",
    "print 'Test set accuracy: ', test_acc/10"
   ]
  },
  {
   "cell_type": "code",
   "execution_count": null,
   "metadata": {
    "collapsed": false
   },
   "outputs": [],
   "source": [
    "from cs231n.vis_utils import visualize_grid\n",
    "w1 = model.params['W1']\n",
    "grid = visualize_grid(w1.transpose(0, 2, 3, 1))\n",
    "plt.imshow(grid.astype('uint8'))\n",
    "plt.axis('off')\n",
    "plt.gcf().set_size_inches(5, 5)\n",
    "plt.show()"
   ]
  },
  {
   "cell_type": "code",
   "execution_count": null,
   "metadata": {
    "collapsed": false
   },
   "outputs": [],
   "source": [
    "from cs231n.vis_utils import visualize_grid\n",
    "w1 = model.params['W1']\n",
    "grid = visualize_grid(w1.transpose(0, 2, 3, 1))\n",
    "# plt.imshow(255 - grid.astype('uint8'))\n",
    "plt.imshow(grid.astype('uint8'))\n",
    "plt.axis('off')\n",
    "plt.gcf().set_size_inches(5, 5)\n",
    "plt.show()"
   ]
  },
  {
   "cell_type": "code",
   "execution_count": null,
   "metadata": {
    "collapsed": true
   },
   "outputs": [],
   "source": [
    "from scipy import io\n",
    "io.savemat('C:\\\\Users\\\\ZHB\\\\assignment2\\\\cs231n\\\\classifiers\\\\best_params.mat', model.params)"
   ]
  },
  {
   "cell_type": "code",
   "execution_count": null,
   "metadata": {
    "collapsed": false
   },
   "outputs": [],
   "source": [
    "X = data['X_train'][4]\n",
    "x = X.transpose(1,2,0)\n",
    "l = np.max(x)-np.min(x)\n",
    "x -= np.min(x)\n",
    "x *= 255/l\n",
    "plt.imshow(x.astype('uint8'))\n",
    "plt.axis('off')\n",
    "plt.gcf().set_size_inches(5, 5)\n",
    "plt.show()"
   ]
  },
  {
   "cell_type": "code",
   "execution_count": null,
   "metadata": {
    "collapsed": false
   },
   "outputs": [],
   "source": [
    "from cs231n.layers import *\n",
    "# w1, b1 = model.params['W1'], model.params['b1']\n",
    "w1 = np.random.randn(3,3,1,1)\n",
    "b1 = np.zeros([3])\n",
    "x = X[np.newaxis,:,:,:]\n",
    "x = x.swapaxes(0,1)\n",
    "conv_param = {'stride':1, 'pad': 1}\n",
    "out, _ = conv_forward_vector(x, w1, b1, conv_param)\n",
    "out = out.transpose(2,3,0,1)\n",
    "\n",
    "x = np.zeros([32,32,3])\n",
    "x[:,:,1] = out[1:-1,1:-1,0,0]\n",
    "x = out[:,:,:,0]\n",
    "l = np.max(x)-np.min(x)\n",
    "x -= np.min(x)\n",
    "x *= 255/l\n",
    "print x.shape\n",
    "plt.imshow(x.astype('uint8'))\n",
    "plt.axis('off')\n",
    "plt.gcf().set_size_inches(5, 5)\n",
    "plt.show()"
   ]
  },
  {
   "cell_type": "code",
   "execution_count": null,
   "metadata": {
    "collapsed": true
   },
   "outputs": [],
   "source": []
  }
 ],
 "metadata": {
  "anaconda-cloud": {},
  "kernelspec": {
   "display_name": "Python 2",
   "language": "python",
   "name": "python2"
  },
  "language_info": {
   "codemirror_mode": {
    "name": "ipython",
    "version": 2
   },
   "file_extension": ".py",
   "mimetype": "text/x-python",
   "name": "python",
   "nbconvert_exporter": "python",
   "pygments_lexer": "ipython2",
   "version": "2.7.13"
  }
 },
 "nbformat": 4,
 "nbformat_minor": 1
}
