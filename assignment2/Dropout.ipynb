{
 "cells": [
  {
   "cell_type": "markdown",
   "metadata": {},
   "source": [
    "# Dropout\n",
    "Dropout [1] is a technique for regularizing neural networks by randomly setting some features to zero during the forward pass. In this exercise you will implement a dropout layer and modify your fully-connected network to optionally use dropout.\n",
    "\n",
    "[1] Geoffrey E. Hinton et al, \"Improving neural networks by preventing co-adaptation of feature detectors\", arXiv 2012"
   ]
  },
  {
   "cell_type": "code",
   "execution_count": 5,
   "metadata": {
    "collapsed": false
   },
   "outputs": [
    {
     "name": "stdout",
     "output_type": "stream",
     "text": [
      "The autoreload extension is already loaded. To reload it, use:\n",
      "  %reload_ext autoreload\n"
     ]
    }
   ],
   "source": [
    "# As usual, a bit of setup\n",
    "\n",
    "import time\n",
    "import numpy as np\n",
    "import matplotlib.pyplot as plt\n",
    "from cs231n.classifiers.fc_net import *\n",
    "from cs231n.data_utils import get_CIFAR10_data\n",
    "from cs231n.gradient_check import eval_numerical_gradient, eval_numerical_gradient_array\n",
    "from cs231n.solver import Solver\n",
    "\n",
    "%matplotlib inline\n",
    "plt.rcParams['figure.figsize'] = (10.0, 8.0) # set default size of plots\n",
    "plt.rcParams['image.interpolation'] = 'nearest'\n",
    "plt.rcParams['image.cmap'] = 'gray'\n",
    "\n",
    "# for auto-reloading external modules\n",
    "# see http://stackoverflow.com/questions/1907993/autoreload-of-modules-in-ipython\n",
    "%load_ext autoreload\n",
    "%autoreload 2\n",
    "\n",
    "def rel_error(x, y):\n",
    "  \"\"\" returns relative error \"\"\"\n",
    "  return np.max(np.abs(x - y) / (np.maximum(1e-8, np.abs(x) + np.abs(y))))"
   ]
  },
  {
   "cell_type": "code",
   "execution_count": 7,
   "metadata": {
    "collapsed": false
   },
   "outputs": [
    {
     "name": "stdout",
     "output_type": "stream",
     "text": [
      "X_val:  (1000L, 3L, 32L, 32L)\n",
      "X_train:  (49000L, 3L, 32L, 32L)\n",
      "X_test:  (1000L, 3L, 32L, 32L)\n",
      "y_val:  (1000L,)\n",
      "y_train:  (49000L,)\n",
      "y_test:  (1000L,)\n"
     ]
    }
   ],
   "source": [
    "# Load the (preprocessed) CIFAR10 data.\n",
    "data = get_CIFAR10_data()\n",
    "for k, v in data.iteritems():\n",
    "  print '%s: ' % k, v.shape"
   ]
  },
  {
   "cell_type": "markdown",
   "metadata": {},
   "source": [
    "# Dropout forward pass\n",
    "In the file `cs231n/layers.py`, implement the forward pass for dropout. Since dropout behaves differently during training and testing, make sure to implement the operation for both modes.\n",
    "\n",
    "Once you have done so, run the cell below to test your implementation."
   ]
  },
  {
   "cell_type": "code",
   "execution_count": 43,
   "metadata": {
    "collapsed": false
   },
   "outputs": [
    {
     "name": "stdout",
     "output_type": "stream",
     "text": [
      "Running tests with p =  0.3\n",
      "Mean of input:  9.99800522492\n",
      "Mean of train-time output:  20.5803743763\n",
      "Mean of test-time output:  9.99800522492\n",
      "Fraction of train-time output set to zero:  0.382388\n",
      "Fraction of test-time output set to zero:  0.0\n",
      "\n",
      "Running tests with p =  0.6\n",
      "Mean of input:  9.99800522492\n",
      "Mean of train-time output:  12.0891882061\n",
      "Mean of test-time output:  9.99800522492\n",
      "Fraction of train-time output set to zero:  0.27448\n",
      "Fraction of test-time output set to zero:  0.0\n",
      "\n",
      "Running tests with p =  0.75\n",
      "Mean of input:  9.99800522492\n",
      "Mean of train-time output:  10.3165265554\n",
      "Mean of test-time output:  9.99800522492\n",
      "Fraction of train-time output set to zero:  0.226196\n",
      "Fraction of test-time output set to zero:  0.0\n",
      "\n"
     ]
    }
   ],
   "source": [
    "x = np.random.randn(500, 500) + 10\n",
    "\n",
    "for p in [0.3, 0.6, 0.75]:\n",
    "  out, _ = dropout_forward(x, {'mode': 'train', 'p': p})\n",
    "  out_test, _ = dropout_forward(x, {'mode': 'test', 'p': p})\n",
    "\n",
    "  print 'Running tests with p = ', p\n",
    "  print 'Mean of input: ', x.mean()\n",
    "  print 'Mean of train-time output: ', out.mean()\n",
    "  print 'Mean of test-time output: ', out_test.mean()\n",
    "  print 'Fraction of train-time output set to zero: ', (out == 0).mean()\n",
    "  print 'Fraction of test-time output set to zero: ', (out_test == 0).mean()\n",
    "  print"
   ]
  },
  {
   "cell_type": "markdown",
   "metadata": {},
   "source": [
    "# Dropout backward pass\n",
    "In the file `cs231n/layers.py`, implement the backward pass for dropout. After doing so, run the following cell to numerically gradient-check your implementation."
   ]
  },
  {
   "cell_type": "code",
   "execution_count": 44,
   "metadata": {
    "collapsed": false
   },
   "outputs": [
    {
     "name": "stdout",
     "output_type": "stream",
     "text": [
      "dx relative error:  5.44561639945e-11\n"
     ]
    }
   ],
   "source": [
    "x = np.random.randn(10, 10) + 10\n",
    "dout = np.random.randn(*x.shape)\n",
    "\n",
    "dropout_param = {'mode': 'train', 'p': 0.8, 'seed': 123}\n",
    "out, cache = dropout_forward(x, dropout_param)\n",
    "dx = dropout_backward(dout, cache)\n",
    "dx_num = eval_numerical_gradient_array(lambda xx: dropout_forward(xx, dropout_param)[0], x, dout)\n",
    "\n",
    "print 'dx relative error: ', rel_error(dx, dx_num)"
   ]
  },
  {
   "cell_type": "markdown",
   "metadata": {},
   "source": [
    "# Fully-connected nets with Dropout\n",
    "In the file `cs231n/classifiers/fc_net.py`, modify your implementation to use dropout. Specificially, if the constructor the the net receives a nonzero value for the `dropout` parameter, then the net should add dropout immediately after every ReLU nonlinearity. After doing so, run the following to numerically gradient-check your implementation."
   ]
  },
  {
   "cell_type": "code",
   "execution_count": 46,
   "metadata": {
    "collapsed": false
   },
   "outputs": [
    {
     "name": "stdout",
     "output_type": "stream",
     "text": [
      "Running check with dropout =  0\n",
      "Initial loss:  2.33068668391\n",
      "W1 relative error: 1.09e-07\n",
      "W2 relative error: 3.43e-08\n",
      "W3 relative error: 2.07e-09\n",
      "b1 relative error: 6.90e-10\n",
      "b2 relative error: 3.19e-10\n",
      "b3 relative error: 2.83e-10\n",
      "\n",
      "Running check with dropout =  0.25\n",
      "Initial loss:  11.5685131249\n",
      "W1 relative error: 7.74e-09\n",
      "W2 relative error: 9.16e-09\n",
      "W3 relative error: 8.10e-03\n",
      "b1 relative error: 1.60e-09\n",
      "b2 relative error: 3.03e-09\n",
      "b3 relative error: 6.95e-03\n",
      "\n",
      "Running check with dropout =  0.5\n",
      "Initial loss:  6.19388312548\n",
      "W1 relative error: 3.31e-08\n",
      "W2 relative error: 2.97e-09\n",
      "W3 relative error: 1.38e-05\n",
      "b1 relative error: 7.74e-10\n",
      "b2 relative error: 5.11e-10\n",
      "b3 relative error: 1.94e-08\n",
      "\n"
     ]
    }
   ],
   "source": [
    "N, D, H1, H2, C = 2, 15, 20, 30, 10\n",
    "X = np.random.randn(N, D)\n",
    "y = np.random.randint(C, size=(N,))\n",
    "\n",
    "for dropout in [0, 0.25, 0.5]:\n",
    "  print 'Running check with dropout = ', dropout\n",
    "  model = FullyConnectedNet([H1, H2], input_dim=D, num_classes=C,\n",
    "                            weight_scale=5e-2, dtype=np.float64,\n",
    "                            dropout=dropout, seed=123)\n",
    "\n",
    "  loss, grads = model.loss(X, y)\n",
    "  print 'Initial loss: ', loss\n",
    "\n",
    "  for name in sorted(grads):\n",
    "    f = lambda _: model.loss(X, y)[0]\n",
    "    grad_num = eval_numerical_gradient(f, model.params[name], verbose=False, h=1e-5)\n",
    "    print '%s relative error: %.2e' % (name, rel_error(grad_num, grads[name]))\n",
    "  print"
   ]
  },
  {
   "cell_type": "markdown",
   "metadata": {},
   "source": [
    "# Regularization experiment\n",
    "As an experiment, we will train a pair of two-layer networks on 500 training examples: one will use no dropout, and one will use a dropout probability of 0.75. We will then visualize the training and validation accuracies of the two networks over time."
   ]
  },
  {
   "cell_type": "code",
   "execution_count": 59,
   "metadata": {
    "collapsed": false,
    "scrolled": false
   },
   "outputs": [
    {
     "name": "stdout",
     "output_type": "stream",
     "text": [
      "0\n",
      "(Iteration 1 / 7640) loss: 3.863066\n",
      "(Epoch 0 / 20) train acc: 0.210000; val_acc: 0.225000\n",
      "(Epoch 1 / 20) train acc: 0.517000; val_acc: 0.481000\n",
      "(Iteration 501 / 7640) loss: 2.124080\n",
      "(Epoch 2 / 20) train acc: 0.593000; val_acc: 0.504000\n",
      "(Iteration 1001 / 7640) loss: 1.853016\n",
      "(Epoch 3 / 20) train acc: 0.615000; val_acc: 0.539000\n",
      "(Iteration 1501 / 7640) loss: 1.646522\n",
      "(Epoch 4 / 20) train acc: 0.596000; val_acc: 0.520000\n",
      "(Epoch 5 / 20) train acc: 0.639000; val_acc: 0.537000\n",
      "(Iteration 2001 / 7640) loss: 1.424440\n",
      "(Epoch 6 / 20) train acc: 0.653000; val_acc: 0.542000\n",
      "(Iteration 2501 / 7640) loss: 1.259419\n",
      "(Epoch 7 / 20) train acc: 0.679000; val_acc: 0.522000\n",
      "(Iteration 3001 / 7640) loss: 1.254014\n",
      "(Epoch 8 / 20) train acc: 0.709000; val_acc: 0.544000\n",
      "(Epoch 9 / 20) train acc: 0.715000; val_acc: 0.552000\n",
      "(Iteration 3501 / 7640) loss: 1.061525\n",
      "(Epoch 10 / 20) train acc: 0.718000; val_acc: 0.531000\n",
      "(Iteration 4001 / 7640) loss: 0.964354\n",
      "(Epoch 11 / 20) train acc: 0.759000; val_acc: 0.556000\n",
      "(Iteration 4501 / 7640) loss: 0.856104\n",
      "(Epoch 12 / 20) train acc: 0.745000; val_acc: 0.556000\n",
      "(Epoch 13 / 20) train acc: 0.762000; val_acc: 0.556000\n",
      "(Iteration 5001 / 7640) loss: 0.970195\n",
      "(Epoch 14 / 20) train acc: 0.797000; val_acc: 0.544000\n",
      "(Iteration 5501 / 7640) loss: 0.953717\n",
      "(Epoch 15 / 20) train acc: 0.817000; val_acc: 0.569000\n",
      "(Iteration 6001 / 7640) loss: 0.896445\n",
      "(Epoch 16 / 20) train acc: 0.815000; val_acc: 0.535000\n",
      "(Epoch 17 / 20) train acc: 0.838000; val_acc: 0.579000\n",
      "(Iteration 6501 / 7640) loss: 0.685805\n",
      "(Epoch 18 / 20) train acc: 0.840000; val_acc: 0.563000\n",
      "(Iteration 7001 / 7640) loss: 0.804338\n",
      "(Epoch 19 / 20) train acc: 0.861000; val_acc: 0.571000\n",
      "(Iteration 7501 / 7640) loss: 0.714018\n",
      "(Epoch 20 / 20) train acc: 0.865000; val_acc: 0.544000\n",
      "0.5\n",
      "(Iteration 1 / 7640) loss: 4.686292\n",
      "(Epoch 0 / 20) train acc: 0.137000; val_acc: 0.173000\n",
      "(Epoch 1 / 20) train acc: 0.462000; val_acc: 0.458000\n",
      "(Iteration 501 / 7640) loss: 2.652790\n",
      "(Epoch 2 / 20) train acc: 0.526000; val_acc: 0.514000\n",
      "(Iteration 1001 / 7640) loss: 2.120627\n",
      "(Epoch 3 / 20) train acc: 0.546000; val_acc: 0.517000\n",
      "(Iteration 1501 / 7640) loss: 2.295038\n",
      "(Epoch 4 / 20) train acc: 0.545000; val_acc: 0.529000\n",
      "(Epoch 5 / 20) train acc: 0.575000; val_acc: 0.519000\n",
      "(Iteration 2001 / 7640) loss: 1.820418\n",
      "(Epoch 6 / 20) train acc: 0.584000; val_acc: 0.517000\n",
      "(Iteration 2501 / 7640) loss: 1.668015\n",
      "(Epoch 7 / 20) train acc: 0.587000; val_acc: 0.536000\n",
      "(Iteration 3001 / 7640) loss: 1.792367\n",
      "(Epoch 8 / 20) train acc: 0.610000; val_acc: 0.544000\n",
      "(Epoch 9 / 20) train acc: 0.606000; val_acc: 0.541000\n",
      "(Iteration 3501 / 7640) loss: 1.580240\n",
      "(Epoch 10 / 20) train acc: 0.621000; val_acc: 0.560000\n",
      "(Iteration 4001 / 7640) loss: 1.441231\n",
      "(Epoch 11 / 20) train acc: 0.627000; val_acc: 0.546000\n",
      "(Iteration 4501 / 7640) loss: 1.332420\n",
      "(Epoch 12 / 20) train acc: 0.617000; val_acc: 0.538000\n",
      "(Epoch 13 / 20) train acc: 0.642000; val_acc: 0.557000\n",
      "(Iteration 5001 / 7640) loss: 1.497958\n",
      "(Epoch 14 / 20) train acc: 0.656000; val_acc: 0.552000\n",
      "(Iteration 5501 / 7640) loss: 1.373448\n",
      "(Epoch 15 / 20) train acc: 0.647000; val_acc: 0.553000\n",
      "(Iteration 6001 / 7640) loss: 1.406492\n",
      "(Epoch 16 / 20) train acc: 0.692000; val_acc: 0.553000\n",
      "(Epoch 17 / 20) train acc: 0.703000; val_acc: 0.565000\n",
      "(Iteration 6501 / 7640) loss: 1.361391\n",
      "(Epoch 18 / 20) train acc: 0.698000; val_acc: 0.577000\n",
      "(Iteration 7001 / 7640) loss: 1.390016\n",
      "(Epoch 19 / 20) train acc: 0.715000; val_acc: 0.575000\n",
      "(Iteration 7501 / 7640) loss: 1.300148\n",
      "(Epoch 20 / 20) train acc: 0.695000; val_acc: 0.583000\n"
     ]
    }
   ],
   "source": [
    "# Train two identical nets, one with dropout and one without\n",
    "num_train = -1\n",
    "small_data = {\n",
    "  'X_train': data['X_train'][:num_train],\n",
    "  'y_train': data['y_train'][:num_train],\n",
    "  'X_val': data['X_val'],\n",
    "  'y_val': data['y_val'],\n",
    "}\n",
    "\n",
    "solvers = {}\n",
    "dropout_choices = [0, 0.5]\n",
    "for dropout in dropout_choices:\n",
    "  model = FullyConnectedNet([800,400], reg=0.001, dropout=dropout)\n",
    "  print dropout\n",
    "\n",
    "  solver = Solver(model, small_data,\n",
    "                  num_epochs=20, batch_size=128,\n",
    "                  update_rule='adam',\n",
    "                  optim_config={\n",
    "                    'learning_rate': 5e-4,\n",
    "                  },\n",
    "                  verbose=True, print_every=500)\n",
    "  solver.train()\n",
    "  solvers[dropout] = solver"
   ]
  },
  {
   "cell_type": "code",
   "execution_count": 60,
   "metadata": {
    "collapsed": false
   },
   "outputs": [
    {
     "data": {
      "image/png": "[encoded data removed]",
      "text/plain": [
       "<matplotlib.figure.Figure at 0x13cf71d0>"
      ]
     },
     "metadata": {},
     "output_type": "display_data"
    }
   ],
   "source": [
    "# Plot train and validation accuracies of the two models\n",
    "\n",
    "train_accs = []\n",
    "val_accs = []\n",
    "for dropout in dropout_choices:\n",
    "  solver = solvers[dropout]\n",
    "  train_accs.append(solver.train_acc_history[-1])\n",
    "  val_accs.append(solver.val_acc_history[-1])\n",
    "\n",
    "plt.subplot(3, 1, 1)\n",
    "for dropout in dropout_choices:\n",
    "  plt.plot(solvers[dropout].train_acc_history, 'o', label='%.2f dropout' % dropout)\n",
    "plt.title('Train accuracy')\n",
    "plt.xlabel('Epoch')\n",
    "plt.ylabel('Accuracy')\n",
    "plt.legend(ncol=2, loc='lower right')\n",
    "  \n",
    "plt.subplot(3, 1, 2)\n",
    "for dropout in dropout_choices:\n",
    "  plt.plot(solvers[dropout].val_acc_history, 'o', label='%.2f dropout' % dropout)\n",
    "plt.title('Val accuracy')\n",
    "plt.xlabel('Epoch')\n",
    "plt.ylabel('Accuracy')\n",
    "plt.legend(ncol=2, loc='lower right')\n",
    "\n",
    "plt.gcf().set_size_inches(15, 15)\n",
    "plt.show()"
   ]
  },
  {
   "cell_type": "markdown",
   "metadata": {},
   "source": [
    "# Question\n",
    "Explain what you see in this experiment. What does it suggest about dropout?"
   ]
  },
  {
   "cell_type": "markdown",
   "metadata": {},
   "source": [
    "# Answer\n"
   ]
  }
 ],
 "metadata": {
  "anaconda-cloud": {},
  "kernelspec": {
   "display_name": "Python [default]",
   "language": "python",
   "name": "python2"
  },
  "language_info": {
   "codemirror_mode": {
    "name": "ipython",
    "version": 2
   },
   "file_extension": ".py",
   "mimetype": "text/x-python",
   "name": "python",
   "nbconvert_exporter": "python",
   "pygments_lexer": "ipython2",
   "version": "2.7.12"
  }
 },
 "nbformat": 4,
 "nbformat_minor": 0
}
